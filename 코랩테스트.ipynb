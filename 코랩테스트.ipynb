{
  "nbformat": 4,
  "nbformat_minor": 0,
  "metadata": {
    "colab": {
      "provenance": [],
      "gpuType": "T4",
      "mount_file_id": "154a9r_xo2cRV7KgMkSLSiK7DItpdZzBW",
      "authorship_tag": "ABX9TyOt8QTDVFB4USvsbKhYmFNn",
      "include_colab_link": true
    },
    "kernelspec": {
      "name": "python3",
      "display_name": "Python 3"
    },
    "language_info": {
      "name": "python"
    },
    "accelerator": "GPU"
  },
  "cells": [
    {
      "cell_type": "markdown",
      "metadata": {
        "id": "view-in-github",
        "colab_type": "text"
      },
      "source": [
        "<a href=\"https://colab.research.google.com/github/shimseonjo/DDV/blob/main/%EC%BD%94%EB%9E%A9%ED%85%8C%EC%8A%A4%ED%8A%B8.ipynb\" target=\"_parent\"><img src=\"https://colab.research.google.com/assets/colab-badge.svg\" alt=\"Open In Colab\"/></a>"
      ]
    },
    {
      "cell_type": "code",
      "execution_count": 1,
      "metadata": {
        "id": "iC1GrvB_J6ln",
        "colab": {
          "base_uri": "https://localhost:8080/"
        },
        "outputId": "d984df91-e326-4389-8903-06dd1058c3fb"
      },
      "outputs": [
        {
          "output_type": "stream",
          "name": "stdout",
          "text": [
            "hi\n"
          ]
        }
      ],
      "source": [
        "print('hi')"
      ]
    },
    {
      "cell_type": "code",
      "source": [
        "%%time\n",
        "\n",
        "import torch\n",
        "from torch import optim\n",
        "import torch.nn as nn\n",
        "import torch.nn.functional as f\n",
        "from torchvision.datasets import CIFAR10\n",
        "import torchvision.transforms as transforms\n",
        "from torch.utils.data import DataLoader"
      ],
      "metadata": {
        "colab": {
          "base_uri": "https://localhost:8080/"
        },
        "id": "dl4uvnm_NyTq",
        "outputId": "05f3e295-d688-4629-9f0c-2b7dba4a43cd"
      },
      "execution_count": 1,
      "outputs": [
        {
          "output_type": "stream",
          "name": "stdout",
          "text": [
            "CPU times: user 5.08 s, sys: 646 ms, total: 5.73 s\n",
            "Wall time: 8.9 s\n"
          ]
        }
      ]
    },
    {
      "cell_type": "code",
      "source": [
        "%%time\n",
        "\n",
        "device = torch.device('cuda:0' if torch.cuda.is_available() else 'cpu')\n",
        "print(device)\n",
        "\n",
        "cifar10_train =  CIFAR10('./data',train=True,download=True,transform=transforms.ToTensor())\n",
        "cifar10_test = CIFAR10('./data',train=False,download=True,transform=transforms.ToTensor())\n",
        "\n",
        "batch_size = 64\n",
        "train_loader = DataLoader(cifar10_train,batch_size=batch_size,shuffle=True)\n",
        "test_loader = DataLoader(cifar10_test,batch_size=len(cifar10_test),shuffle=False)\n",
        "\n",
        "\n",
        "class Net(nn.Module):\n",
        "    def __init__(self):\n",
        "        super().__init__()\n",
        "        self.conv1 = nn.Conv2d(3,6,5)\n",
        "        self.pool = nn.MaxPool2d(2,2)\n",
        "        self.conv2 = nn.Conv2d(6,16,5)\n",
        "        self.fc1 = nn.Linear(16*5*5,256)\n",
        "        self.fc2 = nn.Linear(256,10)\n",
        "\n",
        "    def forward(self,x):\n",
        "        x = self.pool(f.relu(self.conv1(x)))\n",
        "        x = self.pool(f.relu(self.conv2(x)))\n",
        "        x = x.view(-1,16*5*5)\n",
        "        x = f.relu(self.fc1(x))\n",
        "        x = self.fc2(x)\n",
        "        return x\n",
        "\n",
        "net = Net().to(device)\n",
        "loss_func = nn.CrossEntropyLoss()\n",
        "optimizer = optim.Adam(net.parameters())\n",
        "\n",
        "recode_loss_train=[]\n",
        "recode_loss_test=[]\n",
        "\n",
        "x_test,y_test = next(iter(test_loader))\n",
        "x_test,y_test = x_test.to(device),y_test.to(device)\n",
        "\n",
        "for i in range(10):\n",
        "  net.train()\n",
        "  loss_train = 0.0\n",
        "  for j,(x_train,y_train) in enumerate(train_loader):\n",
        "    x_train,y_train = x_train.to(device),y_train.to(device)\n",
        "    y = net(x_train)\n",
        "    loss = loss_func(y,y_train)\n",
        "    loss_train += loss.item()\n",
        "    optimizer.zero_grad()\n",
        "    loss.backward()\n",
        "    optimizer.step()\n",
        "  loss_train /= (j+1)\n",
        "  recode_loss_train.append(loss_train)\n",
        "\n",
        "  net.eval()\n",
        "  y_test_pred = net(x_test)\n",
        "  loss_test = loss_func(y_test_pred,y_test)\n",
        "  recode_loss_test.append(loss_test.item())\n",
        "\n",
        "# CPU times: user 4min 32s, sys: 8.62 s, total: 4min 41s\n",
        "# Wall time: 4min 47s\n",
        "\n",
        "# CPU times: user 1min 24s, sys: 1.82 s, total: 1min 25s\n",
        "# Wall time: 1min 31s"
      ],
      "metadata": {
        "colab": {
          "base_uri": "https://localhost:8080/"
        },
        "id": "IpPXuaweRzcM",
        "outputId": "e3368682-ca5d-4028-803f-fafc5279dab9"
      },
      "execution_count": 2,
      "outputs": [
        {
          "output_type": "stream",
          "name": "stdout",
          "text": [
            "cuda:0\n"
          ]
        },
        {
          "output_type": "stream",
          "name": "stderr",
          "text": [
            "100%|██████████| 170M/170M [00:03<00:00, 46.5MB/s]\n"
          ]
        },
        {
          "output_type": "stream",
          "name": "stdout",
          "text": [
            "CPU times: user 1min 24s, sys: 1.82 s, total: 1min 25s\n",
            "Wall time: 1min 31s\n"
          ]
        }
      ]
    },
    {
      "cell_type": "code",
      "source": [],
      "metadata": {
        "id": "oq8KnbNmSW7Q"
      },
      "execution_count": null,
      "outputs": []
    }
  ]
}